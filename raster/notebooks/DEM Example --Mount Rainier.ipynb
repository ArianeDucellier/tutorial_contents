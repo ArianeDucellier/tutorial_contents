{
 "cells": [
  {
   "cell_type": "code",
   "execution_count": 1,
   "metadata": {
    "collapsed": true
   },
   "outputs": [],
   "source": [
    "from osgeo import gdal\n",
    "import numpy as np\n",
    "import matplotlib.pyplot as plt\n",
    "\n",
    "from pygeotools.lib import iolib, warplib, geolib, timelib, malib\n",
    "\n",
    "# Function to generate a 3-panel plot for input arrays\n",
    "def plot3panel(dem_list, clim=None, titles=None, cmap='inferno', label=None, overlay=None, fn=None):\n",
    "    fig, axa = plt.subplots(1,3, sharex=True, sharey=True, figsize=(10,5))\n",
    "    alpha = 1.0\n",
    "    for n, ax in enumerate(axa):\n",
    "        #Gray background\n",
    "        ax.set_facecolor('0.5')\n",
    "        #Force aspect ratio to match images\n",
    "        ax.set(adjustable='box-forced', aspect='equal')\n",
    "        #Turn off axes labels/ticks\n",
    "        ax.get_xaxis().set_visible(False)\n",
    "        ax.get_yaxis().set_visible(False)\n",
    "        if titles is not None:\n",
    "            ax.set_title(titles[n])\n",
    "        #Plot background shaded relief map\n",
    "        if overlay is not None:\n",
    "            alpha = 0.7\n",
    "            axa[n].imshow(overlay[n], cmap='gray', clim=(1,255)) \n",
    "    #Plot each array \n",
    "    im_list = [axa[i].imshow(dem_list[i], clim=clim, cmap=cmap, alpha=alpha) for i in range(len(dem_list))]\n",
    "    fig.tight_layout()\n",
    "    fig.colorbar(im_list[0], ax=axa.ravel().tolist(), label=label, extend='both', shrink=0.5)\n",
    "    if fn is not None:\n",
    "        fig.savefig(fn, bbox_inches='tight', pad_inches=0, dpi=150)\n",
    "        \n",
    "\n",
    "# Input DEM filenames\n",
    "dem_1970_fn = '../data/rainier/19700901_ned1_2003_adj_warp.tif'\n",
    "dem_2008_fn = '../data/rainier/20080901_rainierlidar_10m-adj.tif'\n",
    "dem_2015_fn = '../data/rainier/20150818_rainier_summer-tile-0.tif'\n",
    "dem_fn_list = [dem_1970_fn, dem_2008_fn, dem_2015_fn]\n",
    "\n",
    "# We'll use this vector later\n",
    "shp_fn = '../data/rainier/rgi60_glacierpoly_rainier.shp'"
   ]
  },
  {
   "cell_type": "code",
   "execution_count": null,
   "metadata": {
    "collapsed": true
   },
   "outputs": [],
   "source": []
  }
 ],
 "metadata": {
  "kernelspec": {
   "display_name": "Python 2",
   "language": "python",
   "name": "python2"
  },
  "language_info": {
   "codemirror_mode": {
    "name": "ipython",
    "version": 2
   },
   "file_extension": ".py",
   "mimetype": "text/x-python",
   "name": "python",
   "nbconvert_exporter": "python",
   "pygments_lexer": "ipython2",
   "version": "2.7.10"
  }
 },
 "nbformat": 4,
 "nbformat_minor": 2
}
