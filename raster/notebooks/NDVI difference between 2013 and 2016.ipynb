{
 "cells": [
  {
   "cell_type": "code",
   "execution_count": 14,
   "metadata": {
    "collapsed": true
   },
   "outputs": [],
   "source": [
    "%matplotlib inline\n",
    "\n",
    "from osgeo import gdal\n",
    "import rasterio\n",
    "from matplotlib import pyplot\n",
    "import numpy\n",
    "import pygeoprocessing\n",
    "\n",
    "# Landsat 8 datasets from June 5, 2013\n",
    "L8_RED_2013 = '../data/landsat/LC08_L1TP_042034_20130605_20170310_01_T1_B4_120x120.TIF'\n",
    "L8_NIR_2013 = '../data/landsat/LC08_L1TP_042034_20130605_20170310_01_T1_B5_120x120.TIF'\n",
    "L8_QA_2013 = '../data/landsat/LC08_L1TP_042034_20130605_20170310_01_T1_BQA_120x120.TIF'\n",
    "L8_2013_FILES = [L8_RED_2013, L8_NIR_2013, L8_QA_2013]\n",
    "\n",
    "# Landsat 8 datasets from June 29, 2016\n",
    "L8_RED_2016 = '../data/landsat/LC08_L1TP_042034_20160629_20170222_01_T1_B4_120x120.TIF'\n",
    "L8_NIR_2016 = '../data/landsat/LC08_L1TP_042034_20160629_20170222_01_T1_B5_120x120.TIF'\n",
    "L8_QA_2016 = '../data/landsat/LC08_L1TP_042034_20160629_20170222_01_T1_BQA_120x120.TIF'\n",
    "L8_2016_FILES = [L8_RED_2016, L8_NIR_2016, L8_QA_2016]\n",
    "\n",
    "# We'll define an output nodata value.\n",
    "NODATA = -9999\n",
    "\n",
    "def plot(array):\n",
    "    \"\"\"Plot a numpy array with an NDVI colormap.\"\"\"\n",
    "    pyplot.imshow(array, cmap='RdYlGn')\n",
    "    pyplot.colorbar()\n",
    "    \n",
    "    \n",
    "def calc_ndvi(red, nir, qa):\n",
    "    \"\"\"Calculate NDVI from red and near-infrared landsat bands.\"\"\"\n",
    "    red = red.astype(numpy.float32)\n",
    "    nir = nir.astype(numpy.float32)\n",
    "    \n",
    "    ndvi = (nir - red) / (nir + red)\n",
    "    ndvi[qa==1] = NODATA\n",
    "    return ndvi"
   ]
  },
  {
   "cell_type": "markdown",
   "metadata": {
    "collapsed": true
   },
   "source": [
    "# Let's calculate change in NDVI between 2013 and 2016!"
   ]
  },
  {
   "cell_type": "code",
   "execution_count": null,
   "metadata": {
    "collapsed": true
   },
   "outputs": [],
   "source": []
  }
 ],
 "metadata": {
  "kernelspec": {
   "display_name": "Python 2",
   "language": "python",
   "name": "python2"
  },
  "language_info": {
   "codemirror_mode": {
    "name": "ipython",
    "version": 2
   },
   "file_extension": ".py",
   "mimetype": "text/x-python",
   "name": "python",
   "nbconvert_exporter": "python",
   "pygments_lexer": "ipython2",
   "version": "2.7.10"
  }
 },
 "nbformat": 4,
 "nbformat_minor": 2
}
