{
 "cells": [
  {
   "cell_type": "markdown",
   "metadata": {},
   "source": [
    "# Calculating NDVI from Landsat 8 imagery without a GIS\n",
    "\n",
    "The [Normalized Difference Vegetation Index](https://en.wikipedia.org/wiki/Normalized_Difference_Vegetation_Index) is a simple indicator that can be used to assess whether the target, usually a remotely-sensed raster image, contains live green vegetation.  This calculation uses two bands of a remote dataset, the Red and Near-Infrared (NIR) bands.\n",
    "\n",
    "\\begin{align}\n",
    "NDVI & = \\frac{(NIR - Red)}{(NIR + Red)}\n",
    "\\end{align}\n",
    "\n",
    "For this tutorial, we'll use the NIR and Red bands from a landsat 8 scene above part of the central valley and the Sierra Nevada in California.  We'll be using [Level 1 datasets](https://landsat.usgs.gov/landsat-processing-details), orthorectified, map-projected images containing radiometrically calibrated data. These images can be individually downloaded from a variety of sources including:\n",
    "\n",
    "* [USGS EarthExplorer](https://earthexplorer.usgs.gov/) (Account required for download)\n",
    "* [Amazon AWS](https://aws.amazon.com/public-datasets/landsat/)\n",
    "\n",
    "The specific scene we'll be using is:\n",
    "\n",
    "* Collection: `LC08_L1TP_042034_20130605_20170310_01_T1` (Available from USGS Earth Explorer)\n",
    "* Pre-collection: `LC80420342013156LGN00` ([Available from Amazon AWS](https://landsat-pds.s3.amazonaws.com/L8/042/034/LC80420342013156LGN00/index.html))\n",
    "\n",
    "More information on Landsat collections here: [https://landsat.usgs.gov/landsat-collections](https://landsat.usgs.gov/landsat-collections)\n",
    "\n",
    "![Preview of our landsat 8 scene](https://landsat-pds.s3.amazonaws.com/L8/042/034/LC80420342013156LGN00/LC80420342013156LGN00_thumb_small.jpg)\n",
    "\n",
    "### Bands\n",
    "\n",
    "* Red: Band 4 (file: ``LC08_L1TP_042034_20130605_20170310_01_T1_B4_120x120.TIF``)\n",
    "* Near-Infrared: Band 5 (file: ``LC08_L1TP_042034_20130605_20170310_01_T1_B5_120x120.tif``)\n",
    "\n",
    "Because of the longevity of the landsat mission and because different sensors on the satellite record data at different resolutions, these bands are individually stored as single-band raster files.  Some other rasters may store multiple bands in the same file.\n",
    "\n",
    "NB: Landsat scenes are distributed with a 30m pixel resolution.  For the sake of this tutorial and the computational time on our jupyterhub instance, these scenes have been downsampled to 120m.\n",
    "\n"
   ]
  },
  {
   "cell_type": "code",
   "execution_count": 3,
   "metadata": {
    "collapsed": true
   },
   "outputs": [],
   "source": [
    "%matplotlib inline\n",
    "\n",
    "from osgeo import gdal\n",
    "import rasterio\n",
    "from matplotlib import pyplot\n",
    "import numpy\n",
    "import pygeoprocessing\n",
    "\n",
    "\n",
    "L8_RED = '../data/landsat/LC08_L1TP_042034_20130605_20170310_01_T1_B4_120x120.TIF'\n",
    "L8_NIR = '../data/landsat/LC08_L1TP_042034_20130605_20170310_01_T1_B5_120x120.TIF'\n",
    "L8_QA = '../data/landsat/LC08_L1TP_042034_20130605_20170310_01_T1_BQA_120x120.TIF'\n",
    "\n",
    "def plot(array):\n",
    "    \"\"\"Plot a numpy array with an NDVI colormap.\"\"\"\n",
    "    pyplot.imshow(array, cmap='RdYlGn')\n",
    "    pyplot.colorbar()"
   ]
  },
  {
   "cell_type": "code",
   "execution_count": 2,
   "metadata": {
    "collapsed": true
   },
   "outputs": [],
   "source": []
  },
  {
   "cell_type": "code",
   "execution_count": null,
   "metadata": {
    "collapsed": true
   },
   "outputs": [],
   "source": []
  }
 ],
 "metadata": {
  "kernelspec": {
   "display_name": "Python 2",
   "language": "python",
   "name": "python2"
  },
  "language_info": {
   "codemirror_mode": {
    "name": "ipython",
    "version": 2
   },
   "file_extension": ".py",
   "mimetype": "text/x-python",
   "name": "python",
   "nbconvert_exporter": "python",
   "pygments_lexer": "ipython2",
   "version": "2.7.10"
  }
 },
 "nbformat": 4,
 "nbformat_minor": 2
}
